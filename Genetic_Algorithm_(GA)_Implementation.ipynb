{
  "nbformat": 4,
  "nbformat_minor": 0,
  "metadata": {
    "colab": {
      "provenance": [],
      "authorship_tag": "ABX9TyMd0ujFSOA9Z1Nrpkf96Hcq",
      "include_colab_link": true
    },
    "kernelspec": {
      "name": "python3",
      "display_name": "Python 3"
    },
    "language_info": {
      "name": "python"
    }
  },
  "cells": [
    {
      "cell_type": "markdown",
      "metadata": {
        "id": "view-in-github",
        "colab_type": "text"
      },
      "source": [
        "<a href=\"https://colab.research.google.com/github/Piyushnagdeote/Genetic-Algorithm-GA-Implementation/blob/main/Genetic_Algorithm_(GA)_Implementation.ipynb\" target=\"_parent\"><img src=\"https://colab.research.google.com/assets/colab-badge.svg\" alt=\"Open In Colab\"/></a>"
      ]
    },
    {
      "cell_type": "code",
      "execution_count": 5,
      "metadata": {
        "colab": {
          "base_uri": "https://localhost:8080/"
        },
        "id": "GI2ybtc1tVyC",
        "outputId": "4bf0f948-0bda-400a-cf18-557464a60c8d"
      },
      "outputs": [
        {
          "output_type": "stream",
          "name": "stdout",
          "text": [
            "Requirement already satisfied: numpy in /usr/local/lib/python3.10/dist-packages (1.25.2)\n",
            "Requirement already satisfied: scikit-learn in /usr/local/lib/python3.10/dist-packages (1.2.2)\n",
            "Requirement already satisfied: deap in /usr/local/lib/python3.10/dist-packages (1.4.1)\n",
            "Requirement already satisfied: scipy>=1.3.2 in /usr/local/lib/python3.10/dist-packages (from scikit-learn) (1.11.4)\n",
            "Requirement already satisfied: joblib>=1.1.1 in /usr/local/lib/python3.10/dist-packages (from scikit-learn) (1.4.2)\n",
            "Requirement already satisfied: threadpoolctl>=2.0.0 in /usr/local/lib/python3.10/dist-packages (from scikit-learn) (3.5.0)\n"
          ]
        }
      ],
      "source": [
        "#Paper 3: \"A Hybrid Genetic Algorithm-Particle Swarm Optimization Framework to Enhance Network Intrusion Detection Systems\"\n",
        "\n",
        "#Setup\n",
        "pip install numpy scikit-learn deap\n"
      ]
    },
    {
      "cell_type": "code",
      "source": [
        "#Import Libraries\n",
        "\n",
        "import numpy as np\n",
        "import pandas as pd\n",
        "from sklearn.datasets import load_digits\n",
        "from sklearn.model_selection import train_test_split\n",
        "from sklearn.preprocessing import StandardScaler\n",
        "from sklearn.metrics import accuracy_score\n",
        "from sklearn.ensemble import RandomForestClassifier\n",
        "from deap import base, creator, tools, algorithms\n",
        "import random"
      ],
      "metadata": {
        "id": "JhRf4Z8wtb_x"
      },
      "execution_count": 14,
      "outputs": []
    },
    {
      "cell_type": "code",
      "source": [
        "#Data Preparation\n",
        "\n",
        "# Load sample dataset (replace with actual NIDS dataset)\n",
        "data = load_digits()\n",
        "X = data.data\n",
        "y = data.target\n",
        "\n",
        "# Preprocess the data\n",
        "scaler = StandardScaler()\n",
        "X = scaler.fit_transform(X)\n",
        "\n",
        "# Split data into training and testing sets\n",
        "X_train, X_test, y_train, y_test = train_test_split(X, y, test_size=0.3, random_state=42)\n"
      ],
      "metadata": {
        "id": "k665oq2dti9v"
      },
      "execution_count": 7,
      "outputs": []
    },
    {
      "cell_type": "code",
      "source": [
        "#Genetic Algorithm (GA) Implementation\n",
        "\n",
        "# Define the evaluation function\n",
        "def evaluate(individual):\n",
        "    # Select features based on the individual\n",
        "    selected_features = [i for i, bit in enumerate(individual) if bit == 1]\n",
        "    if len(selected_features) == 0:\n",
        "        return 0,\n",
        "\n",
        "    X_train_selected = X_train[:, selected_features]\n",
        "    X_test_selected = X_test[:, selected_features]\n",
        "\n",
        "    # Train and evaluate the classifier\n",
        "    clf = RandomForestClassifier(n_estimators=50, random_state=42)\n",
        "    clf.fit(X_train_selected, y_train)\n",
        "    predictions = clf.predict(X_test_selected)\n",
        "    accuracy = accuracy_score(y_test, predictions)\n",
        "    return accuracy,\n",
        "\n",
        "# GA Configuration\n",
        "toolbox = base.Toolbox()\n",
        "creator.create(\"FitnessMax\", base.Fitness, weights=(1.0,))\n",
        "creator.create(\"Individual\", list, fitness=creator.FitnessMax)\n",
        "\n",
        "toolbox.register(\"attr_bool\", random.randint, 0, 1)\n",
        "toolbox.register(\"individual\", tools.initRepeat, creator.Individual, toolbox.attr_bool, n=X.shape[1])\n",
        "toolbox.register(\"population\", tools.initRepeat, list, toolbox.individual)\n",
        "\n",
        "toolbox.register(\"mate\", tools.cxTwoPoint)\n",
        "toolbox.register(\"mutate\", tools.mutFlipBit, indpb=0.05)\n",
        "toolbox.register(\"select\", tools.selTournament, tournsize=3)\n",
        "toolbox.register(\"evaluate\", evaluate)\n",
        "\n",
        "def run_ga():\n",
        "    population = toolbox.population(n=50)\n",
        "    ngen = 20\n",
        "    cxpb = 0.5\n",
        "    mutpb = 0.2\n",
        "\n",
        "    for gen in range(ngen):\n",
        "        offspring = algorithms.varAnd(population, toolbox, cxpb, mutpb)\n",
        "        fits = toolbox.map(toolbox.evaluate, offspring)\n",
        "\n",
        "        for fit, ind in zip(fits, offspring):\n",
        "            ind.fitness.values = fit\n",
        "\n",
        "        population = toolbox.select(offspring, k=len(population))\n",
        "\n",
        "    top_individual = tools.selBest(population, k=1)[0]\n",
        "    return top_individual\n",
        "\n",
        "# Run GA\n",
        "best_individual_ga = run_ga()\n",
        "print(\"Best individual from GA:\", best_individual_ga)\n"
      ],
      "metadata": {
        "colab": {
          "base_uri": "https://localhost:8080/"
        },
        "id": "Lpd-DcWStoKW",
        "outputId": "b3f2f367-47da-402b-baa1-8083cd983273"
      },
      "execution_count": 8,
      "outputs": [
        {
          "output_type": "stream",
          "name": "stderr",
          "text": [
            "/usr/local/lib/python3.10/dist-packages/deap/creator.py:185: RuntimeWarning: A class named 'FitnessMax' has already been created and it will be overwritten. Consider deleting previous creation of that class or rename it.\n",
            "  warnings.warn(\"A class named '{0}' has already been created and it \"\n",
            "/usr/local/lib/python3.10/dist-packages/deap/creator.py:185: RuntimeWarning: A class named 'Individual' has already been created and it will be overwritten. Consider deleting previous creation of that class or rename it.\n",
            "  warnings.warn(\"A class named '{0}' has already been created and it \"\n"
          ]
        },
        {
          "output_type": "stream",
          "name": "stdout",
          "text": [
            "Best individual from GA: [0, 0, 1, 1, 1, 1, 1, 1, 1, 0, 0, 1, 0, 1, 1, 1, 0, 1, 1, 1, 1, 1, 1, 0, 1, 0, 1, 1, 1, 0, 0, 0, 1, 1, 1, 1, 1, 1, 1, 1, 0, 1, 1, 1, 0, 1, 1, 1, 0, 0, 1, 0, 0, 1, 1, 0, 0, 1, 0, 0, 0, 1, 0, 0]\n"
          ]
        }
      ]
    },
    {
      "cell_type": "code",
      "source": [
        "#Particle Swarm Optimization (PSO) Implementation\n",
        "\n",
        "# PSO Configuration\n",
        "def pso(n_particles, n_iterations):\n",
        "    w = 0.5\n",
        "    c1 = 0.8\n",
        "    c2 = 0.9\n",
        "    dimensions = X.shape[1]\n",
        "\n",
        "    # Initialize particle positions and velocities\n",
        "    particle_positions = np.random.randint(2, size=(n_particles, dimensions))\n",
        "    particle_velocities = np.random.rand(n_particles, dimensions)\n",
        "    personal_best_positions = np.copy(particle_positions)\n",
        "    personal_best_scores = np.array([evaluate(ind)[0] for ind in particle_positions])\n",
        "\n",
        "    global_best_position = personal_best_positions[np.argmax(personal_best_scores)]\n",
        "    global_best_score = np.max(personal_best_scores)\n",
        "\n",
        "    for _ in range(n_iterations):\n",
        "        for i in range(n_particles):\n",
        "            r1, r2 = np.random.rand(dimensions), np.random.rand(dimensions)\n",
        "            particle_velocities[i] = (w * particle_velocities[i] +\n",
        "                                      c1 * r1 * (personal_best_positions[i] - particle_positions[i]) +\n",
        "                                      c2 * r2 * (global_best_position - particle_positions[i]))\n",
        "            particle_positions[i] = np.where(particle_positions[i] + particle_velocities[i] > 0.5, 1, 0)\n",
        "\n",
        "            current_score = evaluate(particle_positions[i])[0]\n",
        "            if current_score > personal_best_scores[i]:\n",
        "                personal_best_scores[i] = current_score\n",
        "                personal_best_positions[i] = particle_positions[i]\n",
        "\n",
        "            if current_score > global_best_score:\n",
        "                global_best_score = current_score\n",
        "                global_best_position = particle_positions[i]\n",
        "\n",
        "    return global_best_position\n",
        "\n",
        "# Run PSO\n",
        "best_individual_pso = pso(n_particles=30, n_iterations=50)\n",
        "print(\"Best individual from PSO:\", best_individual_pso)\n"
      ],
      "metadata": {
        "colab": {
          "base_uri": "https://localhost:8080/"
        },
        "id": "__U6sGnjvcYt",
        "outputId": "348f526f-9537-4ce5-a824-2eb2d7f0177a"
      },
      "execution_count": 9,
      "outputs": [
        {
          "output_type": "stream",
          "name": "stdout",
          "text": [
            "Best individual from PSO: [0 1 1 1 1 1 1 0 0 1 0 1 1 1 1 0 1 1 0 0 0 1 1 1 0 0 1 1 1 1 1 1 1 1 0 1 0\n",
            " 1 1 1 1 1 1 1 1 1 1 1 1 0 1 1 1 1 1 1 0 0 0 1 0 0 1 1]\n"
          ]
        }
      ]
    },
    {
      "cell_type": "code",
      "source": [
        "#Hybrid GA-PSO Framework\n",
        "\n",
        "# Hybrid GA-PSO Function\n",
        "def hybrid_ga_pso():\n",
        "    # Run GA to get initial population\n",
        "    best_individual_ga = run_ga()\n",
        "\n",
        "    # Use the best individual from GA as the initial swarm for PSO\n",
        "    initial_swarm = np.tile(best_individual_ga, (30, 1))\n",
        "\n",
        "    # Run PSO\n",
        "    best_individual_pso = pso(n_particles=30, n_iterations=50)\n",
        "\n",
        "    return best_individual_pso\n",
        "\n",
        "# Run Hybrid GA-PSO\n",
        "best_individual_hybrid = hybrid_ga_pso()\n",
        "print(\"Best individual from Hybrid GA-PSO:\", best_individual_hybrid)\n"
      ],
      "metadata": {
        "colab": {
          "base_uri": "https://localhost:8080/"
        },
        "id": "hSozPaohv-1h",
        "outputId": "2d103b20-c592-47f7-d929-c8d796de2017"
      },
      "execution_count": 10,
      "outputs": [
        {
          "output_type": "stream",
          "name": "stdout",
          "text": [
            "Best individual from Hybrid GA-PSO: [1 1 1 0 1 1 1 1 1 0 1 1 0 1 1 1 1 0 1 1 1 1 0 1 0 1 1 1 1 1 1 1 0 0 1 1 1\n",
            " 1 1 0 1 1 1 0 1 0 0 0 1 1 1 1 1 1 1 1 0 1 1 1 0 1 1 1]\n"
          ]
        }
      ]
    },
    {
      "cell_type": "code",
      "source": [
        "#Evaluation\n",
        "\n",
        "def evaluate_final(individual):\n",
        "    selected_features = [i for i, bit in enumerate(individual) if bit == 1]\n",
        "    if len(selected_features) == 0:\n",
        "        return 0\n",
        "\n",
        "    X_train_selected = X_train[:, selected_features]\n",
        "    X_test_selected = X_test[:, selected_features]\n",
        "\n",
        "    clf = RandomForestClassifier(n_estimators=50, random_state=42)\n",
        "    clf.fit(X_train_selected, y_train)\n",
        "    predictions = clf.predict(X_test_selected)\n",
        "    accuracy = accuracy_score(y_test, predictions)\n",
        "    return accuracy\n",
        "\n",
        "final_accuracy = evaluate_final(best_individual_hybrid)\n",
        "print(\"Final accuracy with Hybrid GA-PSO selected features:\", final_accuracy)\n"
      ],
      "metadata": {
        "colab": {
          "base_uri": "https://localhost:8080/"
        },
        "id": "5iMqKPAiw8k_",
        "outputId": "a2623460-91ba-4950-a744-e90686188ef1"
      },
      "execution_count": 11,
      "outputs": [
        {
          "output_type": "stream",
          "name": "stdout",
          "text": [
            "Final accuracy with Hybrid GA-PSO selected features: 0.9851851851851852\n"
          ]
        }
      ]
    }
  ]
}